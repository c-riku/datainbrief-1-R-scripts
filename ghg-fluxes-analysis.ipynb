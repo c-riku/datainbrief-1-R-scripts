{
 "cells": [
  {
   "cell_type": "markdown",
   "id": "75618bcd",
   "metadata": {
    "lines_to_next_cell": 0
   },
   "source": []
  },
  {
   "cell_type": "code",
   "execution_count": 1,
   "id": "ad309868",
   "metadata": {
    "name": "setup",
    "tags": [
     "remove_cell"
    ]
   },
   "outputs": [
    {
     "ename": "SyntaxError",
     "evalue": "invalid syntax (Temp/ipykernel_8356/329564015.py, line 1)",
     "output_type": "error",
     "traceback": [
      "\u001b[1;36m  File \u001b[1;32m\"C:\\Users\\Owner\\AppData\\Local\\Temp/ipykernel_8356/329564015.py\"\u001b[1;36m, line \u001b[1;32m1\u001b[0m\n\u001b[1;33m    knitr::opts_chunk$set(collapse = TRUE)\u001b[0m\n\u001b[1;37m          ^\u001b[0m\n\u001b[1;31mSyntaxError\u001b[0m\u001b[1;31m:\u001b[0m invalid syntax\n"
     ]
    }
   ],
   "source": [
    "knitr::opts_chunk$set(collapse = TRUE)"
   ]
  },
  {
   "cell_type": "markdown",
   "id": "a05e5298",
   "metadata": {},
   "source": [
    "Fit with smoothing spline"
   ]
  },
  {
   "cell_type": "code",
   "execution_count": null,
   "id": "86802cd4",
   "metadata": {
    "cache": false,
    "name": "test-a"
   },
   "outputs": [],
   "source": [
    "library(ggplot2)\n",
    "library(ggformula)\n",
    "\n",
    "data <- read.table(file = \"ghg-fluxes1.csv\",\n",
    "                   header = TRUE,\n",
    "                   dec = \".\",\n",
    "                   sep = \",\")\n",
    "\n",
    "myvars <- c(\"Rs\", \"Ageclass\",\"Ageclass100\", \"Severity1\",\n",
    "            \"Severity2\", \"Source\", \"Region\")\n",
    "newdata <- data[myvars]\n",
    "\n",
    "str(newdata)\n",
    "newdata$Severity<-factor(newdata$Severity1)\n",
    "newdata$Severity2<-factor(newdata$Severity2)\n",
    "newdata$Source<-factor(newdata$Source)\n",
    "newdata$Region<-factor(newdata$Region)\n",
    "names(newdata)[names(newdata) == \"Ageclass\"] <- \"Ageclass\"\n",
    "dim(newdata)"
   ]
  },
  {
   "cell_type": "markdown",
   "id": "1d668cbf",
   "metadata": {},
   "source": [
    "Removing missing data"
   ]
  },
  {
   "cell_type": "code",
   "execution_count": null,
   "id": "64a056b9",
   "metadata": {
    "lines_to_next_cell": 0
   },
   "outputs": [],
   "source": [
    "colSums(is.na(newdata))\n",
    "data1 <- na.exclude(newdata)\n",
    "dotchart(data1$Rs, group = data1$Severity)\n",
    "data2 <- subset(data1, Rs < 30)\n",
    "data2$ID <- seq.int(nrow(data2))\n",
    "data3 <- data2[ !(data2$ID %in% c(55, 105, 106, 107)), ]\n",
    "\n",
    "data3$labelsev2 <- factor(data3$Severity2,labels =\n",
    "                            c(\"High severity\", \"Low severity\", \"Unburned\"))\n",
    "data3$labelsev <- factor(data3$Severity,labels =\n",
    "                           c(\"High severity\", \"Low severity\"))\n",
    "\n",
    "dataH <- subset(data3, labelsev == \"High severity\")\n",
    "dataL <- subset(data3, labelsev == \"Low severity\")\n",
    "\n",
    "p2 <- ggplot() + \n",
    "  geom_jitter(aes(y = Rs,\n",
    "                  x = Ageclass100,\n",
    "                  col = labelsev2,\n",
    "                  shape = labelsev2),\n",
    "              data = data3,\n",
    "              size = 1) +\n",
    "  geom_spline(aes(y = Rs,\n",
    "                  x = Ageclass100,\n",
    "                  col = labelsev),\n",
    "              data = dataH,\n",
    "              df = 5.5,\n",
    "              alpha = 1,\n",
    "              size = 0.5) +\n",
    "  geom_spline(aes(y = Rs,\n",
    "                  x = Ageclass100,\n",
    "                  col = labelsev),\n",
    "              data = dataL,\n",
    "              df = 4,\n",
    "              alpha = 1,\n",
    "              size = 0.5) +\n",
    "  labs(x = \"Time after fire (years)\",\n",
    "       y = (bquote(''*g ~CO[2]~ m^-2~d^-1*''))) + \n",
    "  theme_bw() + \n",
    "  theme(legend.position = c(0.155, 0.91),\n",
    "        legend.text = element_text(size = 10),\n",
    "        legend.title = element_blank(),\n",
    "        legend.key.size = unit(1,\"line\"),\n",
    "        axis.title = element_text(size=12),\n",
    "        axis.text = element_text(size=10)) +\n",
    "  theme(text = element_text(size = 12, family=\"mono\")) +\n",
    "  scale_x_continuous(breaks = seq(0, 100, by = 20))\n",
    "\n",
    "p2 <- p2 + scale_colour_manual(name = \"labelsev2\",\n",
    "                               breaks = c(\"High severity\", \"Low severity\", \"Unburned\"),\n",
    "                               values = c(\"black\", \"gray\", \"#085844\"))\n",
    "p2 <- p2 +  scale_shape_manual(name = \"labelsev2\",\n",
    "                               breaks = c(\"High severity\", \"Low severity\", \"Unburned\"),\n",
    "                               values = c(1, 1, 16)) \n"
   ]
  },
  {
   "cell_type": "code",
   "execution_count": null,
   "id": "0b93c486",
   "metadata": {
    "fig.height": 5,
    "fig.width": 5,
    "lines_to_next_cell": 0,
    "name": "test-b"
   },
   "outputs": [],
   "source": [
    "p2"
   ]
  },
  {
   "cell_type": "markdown",
   "id": "904bc3c3",
   "metadata": {},
   "source": []
  }
 ],
 "metadata": {
  "jupytext": {
   "cell_metadata_filter": "cache,name,fig.height,tags,fig.width,-all",
   "formats": "Rmd,ipynb",
   "main_language": "R",
   "notebook_metadata_filter": "-all",
   "text_representation": {
    "extension": ".Rmd",
    "format_name": "rmarkdown"
   }
  },
  "kernelspec": {
   "display_name": "Python 3 (ipykernel)",
   "language": "python",
   "name": "python3"
  },
  "language_info": {
   "codemirror_mode": {
    "name": "ipython",
    "version": 3
   },
   "file_extension": ".py",
   "mimetype": "text/x-python",
   "name": "python",
   "nbconvert_exporter": "python",
   "pygments_lexer": "ipython3",
   "version": "3.9.5"
  }
 },
 "nbformat": 4,
 "nbformat_minor": 5
}
